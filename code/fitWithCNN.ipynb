{
 "cells": [
  {
   "cell_type": "code",
   "execution_count": 1,
   "metadata": {},
   "outputs": [],
   "source": [
    "# variable for whether running on colab or not\n",
    "running_on_colab = True"
   ]
  },
  {
   "cell_type": "code",
   "execution_count": 2,
   "metadata": {
    "colab": {
     "base_uri": "https://localhost:8080/"
    },
    "executionInfo": {
     "elapsed": 20312,
     "status": "ok",
     "timestamp": 1615756382037,
     "user": {
      "displayName": "Nicholas Kinnaird",
      "photoUrl": "",
      "userId": "09906820574277960357"
     },
     "user_tz": 300
    },
    "id": "sAGTTwr4EDWh",
    "outputId": "604232c2-4236-40de-a974-6061eb2c84fe"
   },
   "outputs": [
    {
     "name": "stdout",
     "output_type": "stream",
     "text": [
      "Mounted at /content/drive\n"
     ]
    }
   ],
   "source": [
    "# Import drive and connect\n",
    "if running_on_colab:\n",
    "    from google.colab import drive\n",
    "    drive.mount('/content/drive')\n",
    "    \n",
    "    import subprocess\n",
    "    subprocess.run(\"pip install pyrsgis\", shell=True)\n",
    "    subprocess.run(\"pip install matplotlib_scalebar\", shell=True)\n",
    "\n",
    "    # Check GPU\n",
    "    subprocess.run(\"nvidia-smi\", shell=True)"
   ]
  },
  {
   "cell_type": "code",
   "execution_count": 3,
   "metadata": {
    "colab": {
     "base_uri": "https://localhost:8080/"
    },
    "executionInfo": {
     "elapsed": 527,
     "status": "ok",
     "timestamp": 1615756732531,
     "user": {
      "displayName": "Nicholas Kinnaird",
      "photoUrl": "",
      "userId": "09906820574277960357"
     },
     "user_tz": 300
    },
    "id": "FKlo_yaXEHXJ",
    "outputId": "3d6103a8-a21e-4aaf-b29a-17ffd95db3db"
   },
   "outputs": [
    {
     "name": "stdout",
     "output_type": "stream",
     "text": [
      "Num GPUs Available:  1\n",
      "[PhysicalDevice(name='/physical_device:GPU:0', device_type='GPU')]\n"
     ]
    }
   ],
   "source": [
    "%load_ext autoreload\n",
    "%autoreload 2\n",
    "\n",
    "import numpy as np\n",
    "from sklearn.model_selection import train_test_split\n",
    "\n",
    "import dataImageUtils as diu\n",
    "import plotEvalUtils as peu\n",
    "\n",
    "import tensorflow as tf\n",
    "from tensorflow import keras\n",
    "from tensorflow.keras.layers import Dense, Conv2D, MaxPooling2D, Dropout, Flatten\n",
    "print(\"Num GPUs Available: \", len(tf.config.list_physical_devices('GPU')))\n",
    "print(tf.config.list_physical_devices('GPU'))"
   ]
  },
  {
   "cell_type": "code",
   "execution_count": 4,
   "metadata": {
    "colab": {
     "base_uri": "https://localhost:8080/"
    },
    "executionInfo": {
     "elapsed": 282,
     "status": "ok",
     "timestamp": 1615757942309,
     "user": {
      "displayName": "Nicholas Kinnaird",
      "photoUrl": "",
      "userId": "09906820574277960357"
     },
     "user_tz": 300
    },
    "id": "XxFlp6yZA9Qf",
    "outputId": "b78bcf65-6508-40b1-e846-0e6577ffecf8"
   },
   "outputs": [
    {
     "name": "stdout",
     "output_type": "stream",
     "text": [
      "Analyzing bands:  [1, 2, 3, 4, 5, 6, 7]\n",
      "nBands:  7\n",
      "Kernel size:  7\n",
      "Stride:  1\n",
      "Downsample majority class:  False\n",
      "Loading model:  True\n",
      "Loading model name:  /content/drive/MyDrive/MangroveClassification/Data_and_Models/CNN_Model_F1_0.928_AUC_0.994.h5\n"
     ]
    }
   ],
   "source": [
    "# constants for program\n",
    "\n",
    "input_bands = [i+1 for i in range(0,7)]\n",
    "nBands = len(input_bands)\n",
    "ndvi_band = 9\n",
    "labels_band = 8\n",
    "\n",
    "kSize = 7\n",
    "stride = 1\n",
    "\n",
    "downsampleMajority = False\n",
    "\n",
    "print('Analyzing bands: ', input_bands)\n",
    "print('nBands: ', nBands)\n",
    "print('Kernel size: ', kSize)\n",
    "print('Stride: ', stride)\n",
    "print('Downsample majority class: ', downsampleMajority)\n",
    "\n",
    "\n",
    "\n",
    "diu.setGlobalVariables(input_bands, nBands)\n",
    "\n",
    "if running_on_colab: image_base_path = \"/content/drive/MyDrive/MangroveClassification/Images/\"\n",
    "else: image_base_path = \"../SatelliteImages/\"\n",
    "    \n",
    "saveTrainingData = True\n",
    "loadTrainingData = False\n",
    "data_model_base_path = \"/content/drive/MyDrive/MangroveClassification/Data_and_Models/\"\n",
    "# data_model_base_path = \"../DataAndModels/\"\n",
    "    \n",
    "saveModel = True\n",
    "loadModel = False\n",
    "\n",
    "savedModelName = data_model_base_path + 'CNN_Model_F1_0.928_AUC_0.994.h5'\n",
    "\n",
    "print('Loading model: ', loadModel)\n",
    "if loadModel:\n",
    "    print('Loading model name: ', savedModelName)\n",
    "else:\n",
    "    print('Saving model: ', saveModel)\n",
    "    print('Loading training data: ', loadTrainingData)\n",
    "    print('Saving training data: ', saveTrainingData)\n"
   ]
  },
  {
   "cell_type": "code",
   "execution_count": 5,
   "metadata": {
    "colab": {
     "base_uri": "https://localhost:8080/",
     "height": 351
    },
    "executionInfo": {
     "elapsed": 3582,
     "status": "ok",
     "timestamp": 1615757945658,
     "user": {
      "displayName": "Nicholas Kinnaird",
      "photoUrl": "",
      "userId": "09906820574277960357"
     },
     "user_tz": 300
    },
    "id": "Yrlea6R1FUj_",
    "outputId": "635cfcd8-009d-4553-98d7-9d7f283ca3c6"
   },
   "outputs": [
    {
     "name": "stdout",
     "output_type": "stream",
     "text": [
      "Loading training data from Google Drive.\n",
      "Training data loaded with shapes: (1650505, 7, 7, 7) (1650505,)\n"
     ]
    }
   ],
   "source": [
    "# generate training data from chosen images or load it in\n",
    "\n",
    "if (loadTrainingData or saveTrainingData) and not running_on_colab:\n",
    "    raise Exception(\"Trying to load or save training data, but not running on Google Colab.\")\n",
    "    \n",
    "if loadModel and not loadTrainingData:\n",
    "    raise Exception('Loading saved model but not saved training data.')\n",
    "    \n",
    "\n",
    "if loadTrainingData:\n",
    "    print('Loading training data from Google Drive.')\n",
    "    model_input_data = np.load(data_model_base_path + 'saved_training_features.npy')\n",
    "    model_input_labels = np.load(data_model_base_path + 'saved_training_labels.npy')\n",
    "    print('Training data loaded with shapes:', model_input_data.shape, model_input_labels.shape)\n",
    "\n",
    "else:\n",
    "    print('Generating new training data.')\n",
    "    training_images = []\n",
    "\n",
    "    # training_images.append(image_base_path + \"Florida_1_2000.tif\")\n",
    "    training_images.append(image_base_path + \"Florida_3_2000.tif\")\n",
    "    # training_images.append(image_base_path + \"Florida_4_2000.tif\")\n",
    "    training_images.append(image_base_path + \"Florida_5_2000.tif\")\n",
    "    training_images.append(image_base_path + \"Florida_6_2000.tif\")\n",
    "    training_images.append(image_base_path + \"Florida_7_2000.tif\")  \n",
    "    \n",
    "    # training_images.append(image_base_path + \"Brazil_2_2000.tif\")\n",
    "\n",
    "    model_input_data, model_input_labels = diu.loadTrainingImagesCNN(training_images, downsampleMajority, kSize, stride)\n",
    "\n",
    "    if saveTrainingData:\n",
    "        print('Saving training data to Google Drive.')\n",
    "        np.save(data_model_base_path + 'saved_training_features.npy', model_input_data)\n",
    "        np.save(data_model_base_path + 'saved_training_labels.npy', model_input_labels)\n",
    "        print('Done saving.')\n"
   ]
  },
  {
   "cell_type": "code",
   "execution_count": 6,
   "metadata": {
    "colab": {
     "base_uri": "https://localhost:8080/"
    },
    "executionInfo": {
     "elapsed": 5007,
     "status": "ok",
     "timestamp": 1615757947097,
     "user": {
      "displayName": "Nicholas Kinnaird",
      "photoUrl": "",
      "userId": "09906820574277960357"
     },
     "user_tz": 300
    },
    "id": "bfLWxgCCKbjd",
    "outputId": "5e2bba9d-ffcd-448c-d564-67dca827b841"
   },
   "outputs": [
    {
     "name": "stdout",
     "output_type": "stream",
     "text": [
      "(990303, 7, 7, 7)\n",
      "(660202, 7, 7, 7)\n"
     ]
    }
   ],
   "source": [
    "# split the data\n",
    "xTrain, xTest, yTrain, yTest = train_test_split(model_input_data, model_input_labels, test_size=0.4, random_state=42, stratify=model_input_labels, shuffle=True)\n",
    "print(xTrain.shape)\n",
    "print(xTest.shape)\n",
    "\n",
    "# delete some variables to clear up memory\n",
    "del model_input_data\n",
    "del model_input_labels"
   ]
  },
  {
   "cell_type": "code",
   "execution_count": 7,
   "metadata": {
    "colab": {
     "base_uri": "https://localhost:8080/"
    },
    "executionInfo": {
     "elapsed": 4994,
     "status": "ok",
     "timestamp": 1615757947100,
     "user": {
      "displayName": "Nicholas Kinnaird",
      "photoUrl": "",
      "userId": "09906820574277960357"
     },
     "user_tz": 300
    },
    "id": "sarO0Li5LzRf",
    "outputId": "5e37a1f6-f9e7-4ee9-e270-23220ccffd0f"
   },
   "outputs": [
    {
     "name": "stdout",
     "output_type": "stream",
     "text": [
      "Loading model:  /content/drive/MyDrive/MangroveClassification/Data_and_Models/CNN_Model_F1_0.928_AUC_0.994.h5\n",
      "Make sure associated training data was loaded properly.\n",
      "Model: \"sequential_1\"\n",
      "_________________________________________________________________\n",
      "Layer (type)                 Output Shape              Param #   \n",
      "=================================================================\n",
      "conv2d_2 (Conv2D)            (None, 7, 7, 32)          256       \n",
      "_________________________________________________________________\n",
      "dropout_3 (Dropout)          (None, 7, 7, 32)          0         \n",
      "_________________________________________________________________\n",
      "conv2d_3 (Conv2D)            (None, 7, 7, 48)          1584      \n",
      "_________________________________________________________________\n",
      "dropout_4 (Dropout)          (None, 7, 7, 48)          0         \n",
      "_________________________________________________________________\n",
      "flatten_1 (Flatten)          (None, 2352)              0         \n",
      "_________________________________________________________________\n",
      "dense_2 (Dense)              (None, 64)                150592    \n",
      "_________________________________________________________________\n",
      "dropout_5 (Dropout)          (None, 64)                0         \n",
      "_________________________________________________________________\n",
      "dense_3 (Dense)              (None, 2)                 130       \n",
      "=================================================================\n",
      "Total params: 152,562\n",
      "Trainable params: 152,562\n",
      "Non-trainable params: 0\n",
      "_________________________________________________________________\n",
      "None\n"
     ]
    }
   ],
   "source": [
    "# load model or fit a new one\n",
    "\n",
    "if saveModel and loadModel:\n",
    "    raise Exception(\"Shouldn't save and load model at the same time.\")\n",
    "\n",
    "if loadModel:\n",
    "    print(\"Loading model: \", savedModelName)\n",
    "    print(\"Make sure associated training data was loaded properly.\")\n",
    "    model = tf.keras.models.load_model(savedModelName) # have to choose which model, could potentially grab the \"best\" one numerically\n",
    "    print(model.summary())\n",
    "    \n",
    "else:\n",
    "    print('Generating and fitting new model.')\n",
    "    # Define the parameters of the model\n",
    "    model = keras.Sequential()\n",
    "    model.add(Conv2D(32, kernel_size=1, padding='valid', activation='relu', input_shape=(kSize, kSize, nBands)))\n",
    "    model.add(Dropout(0.25))\n",
    "    model.add(Conv2D(48, kernel_size=1, padding='valid', activation='relu'))\n",
    "    model.add(Dropout(0.25))\n",
    "    model.add(Flatten())\n",
    "    model.add(Dense(64, activation='relu'))\n",
    "    model.add(Dropout(0.5))\n",
    "    model.add(Dense(2, activation='softmax'))\n",
    "\n",
    "    # Define the accuracy metrics and parameters\n",
    "    model.compile(optimizer= 'rmsprop', loss='sparse_categorical_crossentropy', metrics=['accuracy'])\n",
    "\n",
    "    print(model.summary())\n",
    "\n",
    "    # fit the model\n",
    "    history = model.fit(xTrain, yTrain, validation_split=0.3, epochs=2)"
   ]
  },
  {
   "cell_type": "code",
   "execution_count": 8,
   "metadata": {
    "colab": {
     "base_uri": "https://localhost:8080/"
    },
    "executionInfo": {
     "elapsed": 170089,
     "status": "ok",
     "timestamp": 1615758112208,
     "user": {
      "displayName": "Nicholas Kinnaird",
      "photoUrl": "",
      "userId": "09906820574277960357"
     },
     "user_tz": 300
    },
    "id": "2ENcfR_bSART",
    "outputId": "2abc0376-06bd-4739-8a42-e5d47c223ab0"
   },
   "outputs": [],
   "source": [
    "# for plotting of model fit convergence\n",
    "if 1:\n",
    "    print(history.history)\n",
    "\n",
    "    import matplotlib.pyplot as plt\n",
    "\n",
    "    # could make some plots of the metrics/convergance - f1 would be a better plotting score but just go with accuracy since it's easier\n",
    "    fig, ax = plt.subplots(figsize=(7,3))\n",
    "\n",
    "    loss = history.history['loss']\n",
    "    val_loss = history.history['val_loss']\n",
    "\n",
    "    epochs = range(1,len(loss)+1)\n",
    "\n",
    "    ax.plot(epochs, loss, label='Train')\n",
    "    ax.plot(epochs, val_loss, label='Val')\n",
    "\n",
    "    plt.ylabel(\"Loss\")\n",
    "    plt.xlabel(\"Epochs\")\n",
    "    ax.legend();\n",
    "\n",
    "    plt.savefig(\"SavedPlots/CNN/CNN_Convergence_Loss.png\", bbox_inches='tight')\n",
    "\n",
    "\n",
    "    fig, ax = plt.subplots(figsize=(7,3))\n",
    "\n",
    "    acc = history.history['accuracy']\n",
    "    val_acc = history.history['val_accuracy']\n",
    "\n",
    "    ax.plot(epochs, acc, label='Train')\n",
    "    ax.plot(epochs, val_acc, label='Val')\n",
    "\n",
    "    plt.ylabel(\"Accuracy\")\n",
    "    plt.xlabel(\"Epochs\")\n",
    "    ax.legend();\n",
    "\n",
    "    plt.savefig(\"SavedPlots/CNN/CNN_Convergence_Accuracy.png\", bbox_inches='tight')"
   ]
  },
  {
   "cell_type": "code",
   "execution_count": null,
   "metadata": {
    "colab": {
     "base_uri": "https://localhost:8080/",
     "height": 567
    },
    "executionInfo": {
     "elapsed": 195071,
     "status": "ok",
     "timestamp": 1615758137203,
     "user": {
      "displayName": "Nicholas Kinnaird",
      "photoUrl": "",
      "userId": "09906820574277960357"
     },
     "user_tz": 300
    },
    "id": "5H_HKvcmM0hd",
    "outputId": "ca26df93-ec7f-4f10-9908-be1969560a36"
   },
   "outputs": [],
   "source": [
    "# Predict for test data \n",
    "yTest_pred_prob = model.predict(xTest)\n",
    "yTest_pred_prob = yTest_pred_prob[:,1] # grab probablities for class label 1\n",
    "\n",
    "f1_score = peu.printClassificationMetrics(yTest, yTest_pred_prob)\n",
    "auc_score = peu.makeROCPlot(yTest, yTest_pred_prob, \"Test Data\", 2000, \"\", False)"
   ]
  },
  {
   "cell_type": "code",
   "execution_count": null,
   "metadata": {},
   "outputs": [],
   "source": [
    "# check loaded model was consistent with loaded training data\n",
    "if loadModel:\n",
    "    if (round(f1_score, 3) != float(savedModelName.split(\"/\")[-1].split(\"_\")[3])) or (round(auc_score, 3) != float(savedModelName.split(\"/\")[-1].split(\"_\")[5][:5])):\n",
    "        raise Exception(\"Loaded model does not align with loaded training data.\")\n",
    "        \n",
    "# save model if desired\n",
    "if saveModel:\n",
    "    print('Saving model.')\n",
    "    model.save(data_model_base_path + 'CNN_Model_F1_%.3f_AUC_%.3f.h5' % (f1_score, auc_score))"
   ]
  },
  {
   "cell_type": "code",
   "execution_count": null,
   "metadata": {
    "colab": {
     "base_uri": "https://localhost:8080/",
     "height": 1000
    },
    "executionInfo": {
     "elapsed": 216380,
     "status": "ok",
     "timestamp": 1615758158526,
     "user": {
      "displayName": "Nicholas Kinnaird",
      "photoUrl": "",
      "userId": "09906820574277960357"
     },
     "user_tz": 300
    },
    "id": "1HxISwDMQnvK",
    "outputId": "9a0afe2a-86cd-4c82-998e-362070cb8bc2"
   },
   "outputs": [],
   "source": [
    "# apply model to new images\n",
    "\n",
    "# test images \n",
    "diu.predictOnImageCNN(model, image_base_path + \"Florida_1_2000.tif\", kSize)\n",
    "# diu.predictOnImageCNN(model, image_base_path + \"Florida_4_2000.tif\", kSize)\n",
    "\n",
    "# # # train images\n",
    "# diu.predictOnImageCNN(model, image_base_path + \"Florida_3_2000.tif\", kSize)\n",
    "# diu.predictOnImageCNN(model, image_base_path + \"Florida_5_2000.tif\", kSize)\n",
    "# diu.predictOnImageCNN(model, image_base_path + \"Florida_6_2000.tif\", kSize)\n",
    "# diu.predictOnImageCNN(model, image_base_path + \"Florida_7_2000.tif\", kSize)\n",
    "\n",
    "# # # future images\n",
    "# diu.predictOnImageCNN(model, image_base_path + \"Florida_1_2020.tif\", kSize)\n",
    "# diu.predictOnImageCNN(model, image_base_path + \"Florida_3_2020.tif\", kSize)\n",
    "# diu.predictOnImageCNN(model, image_base_path + \"Florida_4_2020.tif\", kSize)\n",
    "# diu.predictOnImageCNN(model, image_base_path + \"Florida_5_2020.tif\", kSize)\n",
    "# diu.predictOnImageCNN(model, image_base_path + \"Florida_6_2020.tif\", kSize)\n",
    "# diu.predictOnImageCNN(model, image_base_path + \"Florida_7_2020.tif\", kSize)\n",
    "\n",
    "\n",
    "# diu.predictOnImageCNN(model, image_base_path + \"Florida_8_2000.tif\", kSize)\n",
    "# diu.predictOnImageCNN(model, image_base_path + \"Florida_8_2020.tif\", kSize)\n",
    "\n",
    "\n",
    "# diu.predictOnImageCNN(model, image_base_path + \"Brazil_1_2000.tif\", kSize)\n"
   ]
  },
  {
   "cell_type": "code",
   "execution_count": null,
   "metadata": {
    "colab": {
     "base_uri": "https://localhost:8080/"
    },
    "executionInfo": {
     "elapsed": 216372,
     "status": "ok",
     "timestamp": 1615758158527,
     "user": {
      "displayName": "Nicholas Kinnaird",
      "photoUrl": "",
      "userId": "09906820574277960357"
     },
     "user_tz": 300
    },
    "id": "21a_zfJntOKE",
    "outputId": "d6191a6b-efb9-4aa4-cbee-cf5f46d11875"
   },
   "outputs": [],
   "source": [
    "print('not now timeout!')"
   ]
  },
  {
   "cell_type": "code",
   "execution_count": null,
   "metadata": {
    "executionInfo": {
     "elapsed": 216361,
     "status": "ok",
     "timestamp": 1615758158528,
     "user": {
      "displayName": "Nicholas Kinnaird",
      "photoUrl": "",
      "userId": "09906820574277960357"
     },
     "user_tz": 300
    },
    "id": "eP-N6xfiS6Ls"
   },
   "outputs": [],
   "source": []
  }
 ],
 "metadata": {
  "colab": {
   "authorship_tag": "ABX9TyOXLl8N5tkzHY+lidIR0hbo",
   "collapsed_sections": [],
   "name": "firstNN.ipynb",
   "provenance": []
  },
  "kernelspec": {
   "display_name": "Python 3",
   "language": "python",
   "name": "python3"
  },
  "language_info": {
   "codemirror_mode": {
    "name": "ipython",
    "version": 3
   },
   "file_extension": ".py",
   "mimetype": "text/x-python",
   "name": "python",
   "nbconvert_exporter": "python",
   "pygments_lexer": "ipython3",
   "version": "3.8.5"
  }
 },
 "nbformat": 4,
 "nbformat_minor": 4
}
