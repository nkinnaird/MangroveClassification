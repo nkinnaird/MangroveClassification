{
 "cells": [
  {
   "cell_type": "code",
   "execution_count": 1,
   "metadata": {},
   "outputs": [],
   "source": [
    "from pyrsgis import raster\n",
    "from pyrsgis.convert import changeDimension\n",
    "import math\n",
    "from sklearn.model_selection import train_test_split\n",
    "\n",
    "%load_ext autoreload\n",
    "%autoreload 2\n",
    "\n",
    "import numpy as np\n",
    "# from sklearn.model_selection import train_test_split\n",
    "\n",
    "import dataImageUtils as diu\n",
    "import plotEvalUtils as peu\n",
    "\n",
    "import tensorflow as tf\n",
    "from tensorflow import keras\n",
    "from tensorflow.keras.layers import Dense, Conv2D, MaxPooling2D, Dropout, Flatten\n",
    "\n",
    "\n",
    "\n",
    "input_bands = [i+1 for i in range(0,7)]\n",
    "labels_band = 8\n",
    "kSize = 7\n",
    "nBands = len(input_bands)\n"
   ]
  },
  {
   "cell_type": "code",
   "execution_count": 2,
   "metadata": {},
   "outputs": [],
   "source": [
    "\n",
    "# generate image chips for training CNN\n",
    "def CNNdataGenerator(image, kSize):\n",
    "    \n",
    "    ds_features, features = raster.read(image, bands=input_bands) # if just inputting one band, do NOT put the single number in a list to pass to \"bands\", it causes some issue under the hood\n",
    "    ds_labels, labels = raster.read(image, bands=labels_band)\n",
    "    \n",
    "    # remove outer edges of data (which sometimes have issues)\n",
    "    features = diu.removeOuterEdges(features)\n",
    "    labels = diu.removeOuterEdges(labels)\n",
    "\n",
    "    # fill NaNs with 0s\n",
    "    features = np.nan_to_num(features)\n",
    "    labels = np.nan_to_num(labels)\n",
    "\n",
    "    # normalize bands\n",
    "    features = diu.normalizeUInt16Band(features)\n",
    "\n",
    "    nBands, rows, cols = features.shape\n",
    "    \n",
    "    print(features.shape)\n",
    "    \n",
    "    margin = math.floor(kSize/2)\n",
    "    features = np.pad(features, margin, mode='constant')[margin:-margin, :, :]\n",
    "    \n",
    "    features_training = np.empty((rows*cols, kSize, kSize, nBands))\n",
    "#     labels_training = np.empty((rows*cols))\n",
    "\n",
    "    n = 0\n",
    "    for row in range(margin, rows+margin):\n",
    "        for col in range(margin, cols+margin):\n",
    "            feat = features[:, row-margin:row+margin+1, col-margin:col+margin+1]\n",
    "            \n",
    "#             print(feat.shape)\n",
    "\n",
    "            b1, b2, b3, b4, b5, b6, b7 = feat\n",
    "            feat = np.dstack((b1, b2, b3, b4, b5, b6, b7))\n",
    "\n",
    "            features_training[n, :, :, :] = feat\n",
    "            \n",
    "#             labels_training = \n",
    "            \n",
    "            n += 1\n",
    "           \n",
    "    labels = changeDimension(labels)    \n",
    "    labels = (labels == 1).astype(int)\n",
    "\n",
    "    return(features_training, labels)"
   ]
  },
  {
   "cell_type": "code",
   "execution_count": 3,
   "metadata": {},
   "outputs": [
    {
     "name": "stdout",
     "output_type": "stream",
     "text": [
      "(7, 445, 1855)\n",
      "(825475, 7, 7, 7)\n",
      "(825475,)\n"
     ]
    }
   ],
   "source": [
    "features_training, labels = CNNdataGenerator(\"../SatelliteImages/Florida_1_2000.tif\", kSize)\n",
    "print(features_training.shape)\n",
    "print(labels.shape)\n",
    "      "
   ]
  },
  {
   "cell_type": "code",
   "execution_count": 4,
   "metadata": {},
   "outputs": [],
   "source": [
    "# features_training, labels = diu.loadTrainingImagesCNN([\"../SatelliteImages/Florida_1_2000.tif\"], kSize)\n",
    "# print(features_training.shape)\n",
    "# print(labels.shape)"
   ]
  },
  {
   "cell_type": "code",
   "execution_count": 5,
   "metadata": {},
   "outputs": [],
   "source": [
    "xTrain, xTest, yTrain, yTest = train_test_split(features_training, labels, test_size=0.4, random_state=42, stratify=labels, shuffle=True)\n"
   ]
  },
  {
   "cell_type": "code",
   "execution_count": 6,
   "metadata": {},
   "outputs": [
    {
     "name": "stdout",
     "output_type": "stream",
     "text": [
      "(495285, 7, 7, 7)\n",
      "(330190, 7, 7, 7)\n"
     ]
    }
   ],
   "source": [
    "print(xTrain.shape)\n",
    "print(xTest.shape)\n"
   ]
  },
  {
   "cell_type": "code",
   "execution_count": 7,
   "metadata": {},
   "outputs": [
    {
     "name": "stdout",
     "output_type": "stream",
     "text": [
      "15478/15478 [==============================] - 127s 8ms/step - loss: 0.1233 - accuracy: 0.9520\n"
     ]
    },
    {
     "data": {
      "text/plain": [
       "<tensorflow.python.keras.callbacks.History at 0x7fdcb55e9190>"
      ]
     },
     "execution_count": 7,
     "metadata": {},
     "output_type": "execute_result"
    }
   ],
   "source": [
    "model = keras.Sequential()\n",
    "model.add(Conv2D(32, kernel_size=1, padding='valid', activation='relu', input_shape=(kSize, kSize, nBands)))\n",
    "model.add(Dropout(0.25))\n",
    "model.add(Conv2D(48, kernel_size=1, padding='valid', activation='relu'))\n",
    "model.add(Dropout(0.25))\n",
    "model.add(Flatten())\n",
    "model.add(Dense(64, activation='relu'))\n",
    "model.add(Dropout(0.5))\n",
    "model.add(Dense(2, activation='softmax'))\n",
    "\n",
    "# # Run the model\n",
    "model.compile(loss='sparse_categorical_crossentropy', optimizer= 'rmsprop',metrics=['accuracy'])\n",
    "model.fit(xTrain, yTrain)"
   ]
  },
  {
   "cell_type": "code",
   "execution_count": 8,
   "metadata": {},
   "outputs": [
    {
     "name": "stdout",
     "output_type": "stream",
     "text": [
      "Confusion matrix:\n",
      " [[222689   9265]\n",
      " [  2647  95589]]\n",
      "\n",
      "P-Score: 0.912, R-Score: 0.973\n",
      "Accuracy: 0.964\n",
      "f1: 0.941\n",
      "              precision    recall  f1-score   support\n",
      "\n",
      "           0       0.99      0.96      0.97    231954\n",
      "           1       0.91      0.97      0.94     98236\n",
      "\n",
      "    accuracy                           0.96    330190\n",
      "   macro avg       0.95      0.97      0.96    330190\n",
      "weighted avg       0.97      0.96      0.96    330190\n",
      "\n"
     ]
    },
    {
     "data": {
      "image/png": "[encoded data removed]",
      "text/plain": [
       "<Figure size 432x288 with 1 Axes>"
      ]
     },
     "metadata": {
      "needs_background": "light"
     },
     "output_type": "display_data"
    }
   ],
   "source": [
    "# # Predict for test data \n",
    "yTest_pred_prob = model.predict(xTest)\n",
    "yTest_pred_prob = yTest_pred_prob[:,1] # grab probablities for class label 1\n",
    "\n",
    "peu.printClassificationMetrics(yTest, yTest_pred_prob)\n",
    "peu.makeROCPlot(yTest, yTest_pred_prob)"
   ]
  },
  {
   "cell_type": "code",
   "execution_count": null,
   "metadata": {},
   "outputs": [],
   "source": []
  }
 ],
 "metadata": {
  "kernelspec": {
   "display_name": "Python 3",
   "language": "python",
   "name": "python3"
  },
  "language_info": {
   "codemirror_mode": {
    "name": "ipython",
    "version": 3
   },
   "file_extension": ".py",
   "mimetype": "text/x-python",
   "name": "python",
   "nbconvert_exporter": "python",
   "pygments_lexer": "ipython3",
   "version": "3.8.5"
  }
 },
 "nbformat": 4,
 "nbformat_minor": 4
}
