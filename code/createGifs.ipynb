{
 "cells": [
  {
   "cell_type": "code",
   "execution_count": 1,
   "metadata": {},
   "outputs": [],
   "source": [
    "import pandas as pd\n",
    "import numpy as np\n",
    "import matplotlib.pyplot as plt\n",
    "\n",
    "import imageio\n",
    "\n",
    "from pyrsgis import raster\n",
    "from pyrsgis.convert import changeDimension\n",
    "\n",
    "import matplotlib.pylab as pylab\n",
    "params = {'figure.figsize': (20, 5),\n",
    "          'legend.fontsize': 'x-large',\n",
    "          'axes.labelsize': 'x-large',\n",
    "          'axes.titlesize': 'x-large',\n",
    "          'xtick.labelsize': 'x-large',\n",
    "          'ytick.labelsize': 'x-large'}\n",
    "pylab.rcParams.update(params)\n",
    "\n",
    "%load_ext autoreload\n",
    "%autoreload 2\n",
    "\n",
    "import dataImageUtils as diu"
   ]
  },
  {
   "cell_type": "code",
   "execution_count": null,
   "metadata": {},
   "outputs": [],
   "source": [
    "def createRGBImage(path, name):\n",
    "    rgb_multiple = 4\n",
    "\n",
    "    ds, blue = raster.read(rgb_file, bands=1)\n",
    "    ds, green = raster.read(rgb_file, bands=2)\n",
    "    ds, red = raster.read(rgb_file, bands=3)\n",
    "\n",
    "    blue = diu.removeOuterEdges(blue)\n",
    "    green = diu.removeOuterEdges(green)\n",
    "    red = diu.removeOuterEdges(red)\n",
    "\n",
    "    rgb_image = np.dstack((red * rgb_multiple, green * rgb_multiple, blue * rgb_multiple))\n",
    "\n",
    "    plt.figure()\n",
    "    plt.imshow(rgb_image)\n",
    "\n",
    "    ax = plt.gca()\n",
    "    ax.axes.xaxis.set_visible(False)\n",
    "    ax.axes.yaxis.set_visible(False)\n",
    "\n",
    "    plt.title(f\"{name} RGB\")\n",
    "    plt.savefig(f'SavedPlots/{name}_rgb.png', bbox_inches='tight')\n",
    "    plt.show()"
   ]
  },
  {
   "cell_type": "code",
   "execution_count": null,
   "metadata": {},
   "outputs": [],
   "source": [
    "def createGifs(image_list, name):\n",
    "    \n",
    "    # create gif of just the inputs\n",
    "    gif_name = f'SavedPlots/{name}_CNN_input.gif'\n",
    "\n",
    "    with imageio.get_writer(gif_name, mode='I', duration=2) as writer:\n",
    "        for i in image_list[:3]:\n",
    "            writer.append_data(imageio.imread(i))\n",
    "            \n",
    "    # create gif of inputs and preciction and change\n",
    "    gif_name = f'SavedPlots/{name}_CNN_full.gif'\n",
    "    with imageio.get_writer(gif_name, mode='I', duration=2) as writer:\n",
    "        for i in image_list:\n",
    "            writer.append_data(imageio.imread(i))"
   ]
  },
  {
   "cell_type": "code",
   "execution_count": 5,
   "metadata": {},
   "outputs": [],
   "source": [
    "# choose which region and model to make a gif from\n",
    "\n",
    "# base_path = 'SavedPlots/BasicNN/'\n",
    "base_path = 'SavedPlots/CNN/'\n",
    "name = 'Florida_1'\n",
    "year = ''\n",
    "\n",
    "rgb_file = f\"../SatelliteImages/{name}_2000_simple_composite.tif\"\n",
    "\n",
    "if 1:\n",
    "    createRGBImage(rgb_file, name)\n",
    "    \n",
    "rgb_path = f'SavedPlots/{name}_rgb.png'\n",
    "NDVI_path = f'{base_path}{name}/NDVI_{name}_2000.png'\n",
    "labeled_path = f'{base_path}{name}/LabeledMangroves_{name}_2000.png'\n",
    "predicted_path = f'{base_path}{name}/PredictedMangroves_{name}_2020.png'\n",
    "difference_path = f'{base_path}{name}/GaL_{name}_2020.png'\n",
    "\n",
    "image_list = [rgb_path, NDVI_path, labeled_path, predicted_path, difference_path]\n",
    "\n",
    "createGifs(image_list, name)\n",
    "\n"
   ]
  },
  {
   "cell_type": "code",
   "execution_count": null,
   "metadata": {},
   "outputs": [],
   "source": []
  }
 ],
 "metadata": {
  "kernelspec": {
   "display_name": "Python 3",
   "language": "python",
   "name": "python3"
  },
  "language_info": {
   "codemirror_mode": {
    "name": "ipython",
    "version": 3
   },
   "file_extension": ".py",
   "mimetype": "text/x-python",
   "name": "python",
   "nbconvert_exporter": "python",
   "pygments_lexer": "ipython3",
   "version": "3.8.5"
  }
 },
 "nbformat": 4,
 "nbformat_minor": 4
}
